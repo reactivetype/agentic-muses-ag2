{
 "cells": [
  {
   "cell_type": "markdown",
   "id": "0",
   "metadata": {},
   "source": [
    "# Tavily Search Tool\n",
    "\n",
    "The Tavily AI search integration allows users to perform real-time web searches within the AG2 framework. Follow these steps to integrate `TavilySearchTool` with AG2 Agents.\n",
    "\n",
    "## Configuring Your Tavily API Key\n",
    "\n",
    "1. **Create a Tavily Account**:\n",
    "   - Visit [Tavily AI](https://tavily.com/)\n",
    "   - Click `Sign Up` and create an account\n",
    "\n",
    "2. **Get API Key**:\n",
    "   - Navigate to [Tavily API](https://app.tavily.com/)\n",
    "   - Generate API key under **API Keys**\n",
    "\n",
    "3. **Set Environment Variable:**\n",
    "   ```bash\n",
    "   export TAVILY_API_KEY=\"your_api_key_here\"\n",
    "   ```"
   ]
  },
  {
   "cell_type": "markdown",
   "id": "1",
   "metadata": {},
   "source": [
    "\n",
    "## Package Installation\n",
    "\n",
    "To get started with the `Tavily Search` integration in AG2, follow these steps:\n",
    "\n",
    "Install AG2 with `openai` extra since we use openai in our examples:\n",
    "```bash\n",
    "pip install -U \"ag2[openai]\"\n",
    "```\n",
    "> **Note:** If you have been using `autogen` or `ag2`, all you need to do is upgrade it using:\n",
    "> ```bash\n",
    "> pip install -U \"autogen[openai]\"\n",
    "> ```\n",
    "> or\n",
    "> ```bash\n",
    "> pip install -U \"ag2[openai]\"\n",
    "> ```\n",
    "> as `autogen`, and `ag2` are aliases for the same PyPI package.\n",
    "\n",
    "\n",
    "You're all set! Now you can start using Tavily AI Search with AG2."
   ]
  },
  {
   "cell_type": "markdown",
   "id": "2",
   "metadata": {},
   "source": [
    "## Implementation\n",
    "The `TavilySearchTool` enables agents to perform real time AI Powered web search."
   ]
  },
  {
   "cell_type": "markdown",
   "id": "3",
   "metadata": {},
   "source": [
    "### Imports"
   ]
  },
  {
   "cell_type": "code",
   "execution_count": null,
   "id": "4",
   "metadata": {},
   "outputs": [],
   "source": [
    "import os\n",
    "\n",
    "from autogen import AssistantAgent, UserProxyAgent\n",
    "from autogen.tools.experimental import TavilySearchTool"
   ]
  },
  {
   "cell_type": "markdown",
   "id": "5",
   "metadata": {},
   "source": [
    "### Agent Configuration\n",
    "\n",
    "Configure an assistant agent and user proxy to be used for LLM recommendation and execution respectively.\n"
   ]
  },
  {
   "cell_type": "code",
   "execution_count": null,
   "id": "6",
   "metadata": {},
   "outputs": [],
   "source": [
    "os.environ[\"AUTOGEN_USE_DOCKER\"] = \"False\"\n",
    "\n",
    "from autogen import LLMConfig\n",
    "\n",
    "config_list = LLMConfig(api_type=\"openai\", model=\"gpt-4o-mini\")\n",
    "\n",
    "assistant = AssistantAgent(\n",
    "    name=\"assistant\",\n",
    "    llm_config=config_list,\n",
    ")\n",
    "\n",
    "user_proxy = UserProxyAgent(name=\"user_proxy\", human_input_mode=\"NEVER\")"
   ]
  },
  {
   "cell_type": "markdown",
   "id": "7",
   "metadata": {},
   "source": [
    "### Tool Setup"
   ]
  },
  {
   "cell_type": "code",
   "execution_count": null,
   "id": "8",
   "metadata": {},
   "outputs": [],
   "source": [
    "tavily_search_tool = TavilySearchTool(tavily_api_key=os.getenv(\"TAVILY_API_KEY\"))\n",
    "\n",
    "# Register the tool for LLM recommendation and execution.\n",
    "tavily_search_tool.register_for_llm(assistant)\n",
    "tavily_search_tool.register_for_execution(user_proxy)"
   ]
  },
  {
   "cell_type": "markdown",
   "id": "9",
   "metadata": {},
   "source": [
    "### Start the Conversation\n",
    "\n",
    "With the setup complete, you can now use the assistant to fetch live web search results."
   ]
  },
  {
   "cell_type": "code",
   "execution_count": null,
   "id": "10",
   "metadata": {},
   "outputs": [],
   "source": [
    "response = user_proxy.initiate_chat(\n",
    "    recipient=assistant,\n",
    "    message=\"What happened with stock prices after deepseek was launched? Please search the web.\",\n",
    "    max_turns=2,\n",
    ")\n",
    "print(f\"Final Answer: {response.summary}\")"
   ]
  }
 ],
 "metadata": {
  "front_matter": {
   "description": "Tavily Search Integration with AG2",
   "tags": [
    "tools",
    "tavily",
    "web-search",
    "search"
   ]
  },
  "kernelspec": {
   "display_name": "Python 3",
   "language": "python",
   "name": "python3"
  },
  "language_info": {
   "codemirror_mode": {
    "name": "ipython",
    "version": 3
   },
   "file_extension": ".py",
   "mimetype": "text/x-python",
   "name": "python",
   "nbconvert_exporter": "python",
   "pygments_lexer": "ipython3",
   "version": "3.9.21"
  }
 },
 "nbformat": 4,
 "nbformat_minor": 5
}
